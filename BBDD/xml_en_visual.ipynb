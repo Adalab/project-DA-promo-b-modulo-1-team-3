{
 "cells": [
  {
   "cell_type": "code",
   "execution_count": 2,
   "metadata": {},
   "outputs": [
    {
     "ename": "FileNotFoundError",
     "evalue": "[Errno 2] No such file or directory: '/Users/paulacolladosaura/Desktop/adalab/Modulo 1/proyectos/project-DA-promo-b-modulo-1-team-3/BBDD/data_xml.xml'",
     "output_type": "error",
     "traceback": [
      "\u001b[0;31m---------------------------------------------------------------------------\u001b[0m",
      "\u001b[0;31mFileNotFoundError\u001b[0m                         Traceback (most recent call last)",
      "\u001b[1;32m/Users/feliciano/Documents/Adalab/Proyecto 1/GIT DE PROYECTO 1/project-DA-promo-b-modulo-1-team-3-1/BBDD/xml_en_visual.ipynb Celda 1\u001b[0m in \u001b[0;36m<cell line: 5>\u001b[0;34m()\u001b[0m\n\u001b[1;32m      <a href='vscode-notebook-cell:/Users/feliciano/Documents/Adalab/Proyecto%201/GIT%20DE%20PROYECTO%201/project-DA-promo-b-modulo-1-team-3-1/BBDD/xml_en_visual.ipynb#ch0000000?line=1'>2</a>\u001b[0m \u001b[39mimport\u001b[39;00m \u001b[39mos\u001b[39;00m\n\u001b[1;32m      <a href='vscode-notebook-cell:/Users/feliciano/Documents/Adalab/Proyecto%201/GIT%20DE%20PROYECTO%201/project-DA-promo-b-modulo-1-team-3-1/BBDD/xml_en_visual.ipynb#ch0000000?line=2'>3</a>\u001b[0m \u001b[39mimport\u001b[39;00m \u001b[39mxml\u001b[39;00m\u001b[39m.\u001b[39;00m\u001b[39metree\u001b[39;00m\u001b[39m.\u001b[39;00m\u001b[39mElementTree\u001b[39;00m \u001b[39mas\u001b[39;00m \u001b[39mET\u001b[39;00m\n\u001b[0;32m----> <a href='vscode-notebook-cell:/Users/feliciano/Documents/Adalab/Proyecto%201/GIT%20DE%20PROYECTO%201/project-DA-promo-b-modulo-1-team-3-1/BBDD/xml_en_visual.ipynb#ch0000000?line=4'>5</a>\u001b[0m tree \u001b[39m=\u001b[39m ET\u001b[39m.\u001b[39;49mparse(\u001b[39m'\u001b[39;49m\u001b[39m/Users/paulacolladosaura/Desktop/adalab/Modulo 1/proyectos/project-DA-promo-b-modulo-1-team-3/BBDD/data_xml.xml\u001b[39;49m\u001b[39m'\u001b[39;49m)\n\u001b[1;32m      <a href='vscode-notebook-cell:/Users/feliciano/Documents/Adalab/Proyecto%201/GIT%20DE%20PROYECTO%201/project-DA-promo-b-modulo-1-team-3-1/BBDD/xml_en_visual.ipynb#ch0000000?line=5'>6</a>\u001b[0m root \u001b[39m=\u001b[39m tree\u001b[39m.\u001b[39mgetroot()\n\u001b[1;32m      <a href='vscode-notebook-cell:/Users/feliciano/Documents/Adalab/Proyecto%201/GIT%20DE%20PROYECTO%201/project-DA-promo-b-modulo-1-team-3-1/BBDD/xml_en_visual.ipynb#ch0000000?line=8'>9</a>\u001b[0m xml_list \u001b[39m=\u001b[39m []\n",
      "File \u001b[0;32m/Library/Developer/CommandLineTools/Library/Frameworks/Python3.framework/Versions/3.8/lib/python3.8/xml/etree/ElementTree.py:1202\u001b[0m, in \u001b[0;36mparse\u001b[0;34m(source, parser)\u001b[0m\n\u001b[1;32m   1193\u001b[0m \u001b[39m\"\"\"Parse XML document into element tree.\u001b[39;00m\n\u001b[1;32m   1194\u001b[0m \n\u001b[1;32m   1195\u001b[0m \u001b[39m*source* is a filename or file object containing XML data,\u001b[39;00m\n\u001b[0;32m   (...)\u001b[0m\n\u001b[1;32m   1199\u001b[0m \n\u001b[1;32m   1200\u001b[0m \u001b[39m\"\"\"\u001b[39;00m\n\u001b[1;32m   1201\u001b[0m tree \u001b[39m=\u001b[39m ElementTree()\n\u001b[0;32m-> 1202\u001b[0m tree\u001b[39m.\u001b[39;49mparse(source, parser)\n\u001b[1;32m   1203\u001b[0m \u001b[39mreturn\u001b[39;00m tree\n",
      "File \u001b[0;32m/Library/Developer/CommandLineTools/Library/Frameworks/Python3.framework/Versions/3.8/lib/python3.8/xml/etree/ElementTree.py:584\u001b[0m, in \u001b[0;36mElementTree.parse\u001b[0;34m(self, source, parser)\u001b[0m\n\u001b[1;32m    582\u001b[0m close_source \u001b[39m=\u001b[39m \u001b[39mFalse\u001b[39;00m\n\u001b[1;32m    583\u001b[0m \u001b[39mif\u001b[39;00m \u001b[39mnot\u001b[39;00m \u001b[39mhasattr\u001b[39m(source, \u001b[39m\"\u001b[39m\u001b[39mread\u001b[39m\u001b[39m\"\u001b[39m):\n\u001b[0;32m--> 584\u001b[0m     source \u001b[39m=\u001b[39m \u001b[39mopen\u001b[39;49m(source, \u001b[39m\"\u001b[39;49m\u001b[39mrb\u001b[39;49m\u001b[39m\"\u001b[39;49m)\n\u001b[1;32m    585\u001b[0m     close_source \u001b[39m=\u001b[39m \u001b[39mTrue\u001b[39;00m\n\u001b[1;32m    586\u001b[0m \u001b[39mtry\u001b[39;00m:\n",
      "\u001b[0;31mFileNotFoundError\u001b[0m: [Errno 2] No such file or directory: '/Users/paulacolladosaura/Desktop/adalab/Modulo 1/proyectos/project-DA-promo-b-modulo-1-team-3/BBDD/data_xml.xml'"
     ]
    }
   ],
   "source": [
    "import re\n",
    "import os\n",
    "import xml.etree.ElementTree as ET\n",
    "\n",
    "tree = ET.parse('/Users/paulacolladosaura/Desktop/adalab/Modulo 1/proyectos/project-DA-promo-b-modulo-1-team-3/BBDD/data_xml.xml')\n",
    "root = tree.getroot()\n",
    "\n",
    "\n",
    "xml_list = []\n",
    "for child in root:\n",
    "    xml_dict = {}\n",
    "    for subchild in child:\n",
    "        xml_dict[subchild.tag] = subchild.text\n",
    "    xml_list.append(xml_dict) # Es una lista que contiene diccionarios"
   ]
  },
  {
   "cell_type": "code",
   "execution_count": 3,
   "metadata": {},
   "outputs": [
    {
     "ename": "NameError",
     "evalue": "name 'xml_list' is not defined",
     "output_type": "error",
     "traceback": [
      "\u001b[0;31m---------------------------------------------------------------------------\u001b[0m",
      "\u001b[0;31mNameError\u001b[0m                                 Traceback (most recent call last)",
      "\u001b[1;32m/Users/feliciano/Documents/Adalab/Proyecto 1/GIT DE PROYECTO 1/project-DA-promo-b-modulo-1-team-3-1/BBDD/xml_en_visual.ipynb Celda 2\u001b[0m in \u001b[0;36m<cell line: 1>\u001b[0;34m()\u001b[0m\n\u001b[0;32m----> <a href='vscode-notebook-cell:/Users/feliciano/Documents/Adalab/Proyecto%201/GIT%20DE%20PROYECTO%201/project-DA-promo-b-modulo-1-team-3-1/BBDD/xml_en_visual.ipynb#ch0000001?line=0'>1</a>\u001b[0m xml_list\n",
      "\u001b[0;31mNameError\u001b[0m: name 'xml_list' is not defined"
     ]
    }
   ],
   "source": [
    "xml_list"
   ]
  },
  {
   "cell_type": "code",
   "execution_count": 4,
   "metadata": {},
   "outputs": [
    {
     "ename": "NameError",
     "evalue": "name 'xml_list' is not defined",
     "output_type": "error",
     "traceback": [
      "\u001b[0;31m---------------------------------------------------------------------------\u001b[0m",
      "\u001b[0;31mNameError\u001b[0m                                 Traceback (most recent call last)",
      "\u001b[1;32m/Users/feliciano/Documents/Adalab/Proyecto 1/GIT DE PROYECTO 1/project-DA-promo-b-modulo-1-team-3-1/BBDD/xml_en_visual.ipynb Celda 3\u001b[0m in \u001b[0;36m<cell line: 1>\u001b[0;34m()\u001b[0m\n\u001b[0;32m----> <a href='vscode-notebook-cell:/Users/feliciano/Documents/Adalab/Proyecto%201/GIT%20DE%20PROYECTO%201/project-DA-promo-b-modulo-1-team-3-1/BBDD/xml_en_visual.ipynb#ch0000002?line=0'>1</a>\u001b[0m \u001b[39mprint\u001b[39m(xml_list)\n",
      "\u001b[0;31mNameError\u001b[0m: name 'xml_list' is not defined"
     ]
    }
   ],
   "source": [
    "print(xml_list)"
   ]
  },
  {
   "cell_type": "code",
   "execution_count": null,
   "metadata": {},
   "outputs": [],
   "source": [
    "# Explicación tipos de datos xml_list:\n",
    "# Vemos que es una lista de diccionarios, representando los registros de una tabla con varias columnas\n",
    "# El diccionario se complone de: Keys (nombre de la columna) y Values (nombre del registro)\n",
    "# En algunos diccionarios, vemos que estan con saltos de línea entre los ítems."
   ]
  },
  {
   "cell_type": "code",
   "execution_count": null,
   "metadata": {},
   "outputs": [],
   "source": [
    "# Cambiar la key género de int a str"
   ]
  },
  {
   "cell_type": "code",
   "execution_count": 3,
   "metadata": {},
   "outputs": [
    {
     "ename": "NameError",
     "evalue": "name 'xml_list' is not defined",
     "output_type": "error",
     "traceback": [
      "\u001b[0;31m---------------------------------------------------------------------------\u001b[0m",
      "\u001b[0;31mNameError\u001b[0m                                 Traceback (most recent call last)",
      "\u001b[1;32m/Users/feliciano/Documents/Adalab/Proyecto 1/GIT DE PROYECTO 1/project-DA-promo-b-modulo-1-team-3-1/BBDD/xml_en_visual.ipynb Celda 6\u001b[0m in \u001b[0;36m<cell line: 3>\u001b[0;34m()\u001b[0m\n\u001b[1;32m      <a href='vscode-notebook-cell:/Users/feliciano/Documents/Adalab/Proyecto%201/GIT%20DE%20PROYECTO%201/project-DA-promo-b-modulo-1-team-3-1/BBDD/xml_en_visual.ipynb#ch0000020?line=0'>1</a>\u001b[0m \u001b[39m# SOLUCION QUE SE ME OCURRIO (ANA)\u001b[39;00m\n\u001b[0;32m----> <a href='vscode-notebook-cell:/Users/feliciano/Documents/Adalab/Proyecto%201/GIT%20DE%20PROYECTO%201/project-DA-promo-b-modulo-1-team-3-1/BBDD/xml_en_visual.ipynb#ch0000020?line=2'>3</a>\u001b[0m \u001b[39mfor\u001b[39;00m i \u001b[39min\u001b[39;00m \u001b[39mrange\u001b[39m(\u001b[39mlen\u001b[39m(xml_list)):  \u001b[39m#entramos a cada elemento de la lista (o sea, cada diccionario)\u001b[39;00m\n\u001b[1;32m      <a href='vscode-notebook-cell:/Users/feliciano/Documents/Adalab/Proyecto%201/GIT%20DE%20PROYECTO%201/project-DA-promo-b-modulo-1-team-3-1/BBDD/xml_en_visual.ipynb#ch0000020?line=4'>5</a>\u001b[0m     \u001b[39mfor\u001b[39;00m k, v \u001b[39min\u001b[39;00m xml_list[i]\u001b[39m.\u001b[39mitems(): \u001b[39m#por cada key y value de cada diccionario:\u001b[39;00m\n\u001b[1;32m      <a href='vscode-notebook-cell:/Users/feliciano/Documents/Adalab/Proyecto%201/GIT%20DE%20PROYECTO%201/project-DA-promo-b-modulo-1-team-3-1/BBDD/xml_en_visual.ipynb#ch0000020?line=6'>7</a>\u001b[0m         \u001b[39mif\u001b[39;00m k \u001b[39m==\u001b[39m \u001b[39m\"\u001b[39m\u001b[39mgender\u001b[39m\u001b[39m\"\u001b[39m:       \u001b[39m# si la key es = a gender (para que nos tome solo esa columna)\u001b[39;00m\n",
      "\u001b[0;31mNameError\u001b[0m: name 'xml_list' is not defined"
     ]
    }
   ],
   "source": [
    "# SOLUCION QUE SE ME OCURRIO (ANA)\n",
    "\n",
    "for i in range(len(xml_list)):  #entramos a cada elemento de la lista (o sea, cada diccionario)\n",
    "\n",
    "    for k, v in xml_list[i].items(): #por cada key y value de cada diccionario:\n",
    "        \n",
    "        if k == \"gender\":       # si la key es = a gender (para que nos tome solo esa columna)\n",
    "            \n",
    "            if v == \"0\":                     # si el valor es \"0\":\n",
    "              xml_list[i][k] = \"Man\"            # que vaya a la key de ese diccionario y cambie el value a \"Man\"\n",
    "            \n",
    "            elif v == \"1\":                      # lo mismo para el resto\n",
    "                xml_list[i][k] = \"Woman\"\n",
    "            elif v == \"2\":\n",
    "                xml_list[i][k] = \"Nonbinary\"\n",
    "            elif v == \"3\":\n",
    "                xml_list[i][k] = \"Prefer not to say\"\n",
    "            elif v == \"4\":\n",
    "                xml_list[i][k] = \"Prefer to self-describe\"\n"
   ]
  }
 ],
 "metadata": {
  "kernelspec": {
   "display_name": "Python 3.8.9 64-bit",
   "language": "python",
   "name": "python3"
  },
  "language_info": {
   "codemirror_mode": {
    "name": "ipython",
    "version": 3
   },
   "file_extension": ".py",
   "mimetype": "text/x-python",
   "name": "python",
   "nbconvert_exporter": "python",
   "pygments_lexer": "ipython3",
   "version": "3.8.9"
  },
  "orig_nbformat": 4,
  "vscode": {
   "interpreter": {
    "hash": "31f2aee4e71d21fbe5cf8b01ff0e069b9275f58929596ceb00d14d90e3e16cd6"
   }
  }
 },
 "nbformat": 4,
 "nbformat_minor": 2
}
