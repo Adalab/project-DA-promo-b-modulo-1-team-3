{
 "cells": [
  {
   "cell_type": "code",
   "execution_count": null,
   "metadata": {},
   "outputs": [],
   "source": [
    "# Creamos una clase para leer los archivos de forma automatica, para archivos de tipo txt y xml (indicado en los distintos métdos)\n",
    "class Lectura_archivos:\n",
    "\n",
    "    def get_root_files (self, path_archivo): #la variable path_archivo es un string con la ruta del archivo, incluyendo el nombre del archivo\n",
    "        import os\n",
    "        self.path_archivo = path_archivo\n",
    "\n",
    "        return\n",
    "    \n",
    "    def lectura_xml (self, ruta_archivo_xml):\n",
    "        import xml.etree.ElementTree as ET\n",
    "        \n",
    "        self.ruta_archivo_xml = ruta_archivo_xml #Indica la ruta del archivo xml\n",
    "\n",
    "        tree = ET.parse(ruta_archivo_xml)\n",
    "\n",
    "        root = tree.getroot()\n",
    "\n",
    "        xml_list = []\n",
    "        for child in root:\n",
    "            xml_dict = {}\n",
    "            for subchild in child:\n",
    "                xml_dict[subchild.tag] = subchild.text\n",
    "            xml_list.append(xml_dict) # Es una lista que contiene diccionarios\n",
    "            \n",
    "        return xml_list\n",
    "\n",
    "    def lectura_txt (self,ruta_archivo_txt, modo = 'r'):\n",
    "        \n",
    "        self.ruta_archivo_txt = ruta_archivo_txt #Ruta donde está guardado el archivo +'/' +'nombre del archivo'\n",
    "        self.modo = modo\n",
    "\n",
    "        with open(ruta_archivo_txt,modo) as file:\n",
    "            file_source = file.readlines()\n",
    "\n",
    "        return  file_source\n",
    "    "
   ]
  },
  {
   "cell_type": "code",
   "execution_count": 1,
   "metadata": {},
   "outputs": [],
   "source": [
    "# Creamos una clase para limpiar los datos según pide el cliente, para los archivos de tipo xml y txt, respectivamente\n",
    "class Limpieza_archivos:\n",
    "\n",
    "       def limpieza_xml(self, archivo_xml): #Este archivo tiene que ser un formato .xml\n",
    "              self.archivo_xml = archivo_xml\n",
    "\n",
    "              for y in range(len(archivo_xml)):\n",
    "                            archivo_xml[y]['index_xml'] = archivo_xml[y].pop('level_0')\n",
    "                            archivo_xml[y]['index_sql'] = archivo_xml[y].pop('index')\n",
    "\n",
    "              for i in archivo_xml:\n",
    "                     for k, v in i.items(): \n",
    "                            if k == \"gender\":       \n",
    "                                   if v == \"0\":                     \n",
    "                                          i[k] = \"Man\"            \n",
    "                                   elif v == \"1\":                      \n",
    "                                          i[k] = \"Woman\"\n",
    "                                   elif v == \"2\":\n",
    "                                          i[k] = \"Nonbinary\"\n",
    "                                   elif v == \"3\":\n",
    "                                          i[k] = \"Prefer not to say\"\n",
    "                                   elif v == \"4\":\n",
    "                                          i[k] = \"Prefer to self-describe\"\n",
    "              return archivo_xml\n",
    "\n",
    "       def limpieza_txt(self, archivo_txt): #Este archivo tiene que ser un formato .txt\n",
    "              self.archivo_txt = archivo_txt\n",
    "\n",
    "              for string in range(0, len(archivo_txt)):\n",
    "                     \n",
    "                     archivo_txt[string]= archivo_txt[string].split(\";\")\n",
    "                     \n",
    "                     for string2 in range(0,len(archivo_txt[string])):\n",
    "\n",
    "                            archivo_txt[string][string2] = archivo_txt[string][string2].strip()\n",
    "                            \n",
    "                            archivo_txt[string][string2] = archivo_txt[string][string2].replace(\"null\",\"NULL\")\n",
    "\n",
    "                            archivo_txt[string][string2] = archivo_txt[string][string2].replace(\"<\",\"Under\")\n",
    "\n",
    "                            archivo_txt[string][string2] = archivo_txt[string][string2].strip(\"\\n\")\n",
    "\n",
    "              return archivo_txt\n"
   ]
  }
 ],
 "metadata": {
  "kernelspec": {
   "display_name": "Python 3.9.7 ('base')",
   "language": "python",
   "name": "python3"
  },
  "language_info": {
   "codemirror_mode": {
    "name": "ipython",
    "version": 3
   },
   "file_extension": ".py",
   "mimetype": "text/x-python",
   "name": "python",
   "nbconvert_exporter": "python",
   "pygments_lexer": "ipython3",
   "version": "3.9.7"
  },
  "orig_nbformat": 4,
  "vscode": {
   "interpreter": {
    "hash": "40d3a090f54c6569ab1632332b64b2c03c39dcf918b08424e98f38b5ae0af88f"
   }
  }
 },
 "nbformat": 4,
 "nbformat_minor": 2
}
