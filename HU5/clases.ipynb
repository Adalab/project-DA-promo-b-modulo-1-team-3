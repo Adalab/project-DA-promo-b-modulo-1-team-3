{
 "cells": [
  {
   "cell_type": "code",
   "execution_count": null,
   "metadata": {},
   "outputs": [],
   "source": [
    "class Limpieza_archivos:\n",
    "\n",
    "       def limpieza_xml(archivo_xml):\n",
    "\n",
    "              for y in range(len(archivo_xml)):\n",
    "                            archivo_xml[y]['index_xml'] = archivo_xml[y].pop('level_0')\n",
    "                            archivo_xml[y]['index_sql'] = archivo_xml[y].pop('index')\n",
    "\n",
    "              for i in archivo_xml:\n",
    "                     for k, v in i.items(): \n",
    "                            if k == \"gender\":       \n",
    "                                   if v == \"0\":                     \n",
    "                                          i[k] = \"Man\"            \n",
    "                                   elif v == \"1\":                      \n",
    "                                          i[k] = \"Woman\"\n",
    "                                   elif v == \"2\":\n",
    "                                          i[k] = \"Nonbinary\"\n",
    "                                   elif v == \"3\":\n",
    "                                          i[k] = \"Prefer not to say\"\n",
    "                                   elif v == \"4\":\n",
    "                                          i[k] = \"Prefer to self-describe\"\n",
    "              return archivo_xml\n",
    "\n",
    "       def limpieza_txt(archivo_txt):\n",
    "\n",
    "              for string in range(0, len(archivo_txt)):\n",
    "                     \n",
    "                     archivo_txt[string]= archivo_txt[string].split(\";\")\n",
    "                     \n",
    "                     for string2 in range(0,len(archivo_txt[string])):\n",
    "\n",
    "                            archivo_txt[string][string2] = archivo_txt[string][string2].strip()\n",
    "                            \n",
    "                            archivo_txt[string][string2] = archivo_txt[string][string2].replace(\"null\",\"NULL\")\n",
    "\n",
    "                            archivo_txt[string][string2] = archivo_txt[string][string2].replace(\"<\",\"Under\")\n",
    "\n",
    "                            archivo_txt[string][string2] = archivo_txt[string][string2].strip(\"\\n\")\n",
    "\n",
    "       return archivo_txt\n"
   ]
  },
  {
   "cell_type": "code",
   "execution_count": null,
   "metadata": {},
   "outputs": [],
   "source": [
    "#FUNCION LIMPIEZA ARCHIVO XML\n",
    "\n",
    "def limpieza_xml(archivo_xml):\n",
    "\n",
    "       for y in range(len(archivo_xml)):\n",
    "                     archivo_xml[y]['index_xml'] = archivo_xml[y].pop('level_0')\n",
    "                     archivo_xml[y]['index_sql'] = archivo_xml[y].pop('index')\n",
    "\n",
    "       for i in archivo_xml:\n",
    "              for k, v in i.items(): \n",
    "                     if k == \"gender\":       \n",
    "                            if v == \"0\":                     \n",
    "                                   i[k] = \"Man\"            \n",
    "                            elif v == \"1\":                      \n",
    "                                   i[k] = \"Woman\"\n",
    "                            elif v == \"2\":\n",
    "                                   i[k] = \"Nonbinary\"\n",
    "                            elif v == \"3\":\n",
    "                                   i[k] = \"Prefer not to say\"\n",
    "                            elif v == \"4\":\n",
    "                                   i[k] = \"Prefer to self-describe\"\n",
    "       return archivo_xml"
   ]
  },
  {
   "cell_type": "code",
   "execution_count": null,
   "metadata": {},
   "outputs": [],
   "source": [
    "#FUNCION LIMPIEZA ARCHIVO.TXT\n",
    "\n",
    "def limpieza_txt(archivo_txt):\n",
    "\n",
    "    for string in range(0, len(archivo_txt)):\n",
    "        \n",
    "        archivo_txt[string]= archivo_txt[string].split(\";\")\n",
    "        \n",
    "        for string2 in range(0,len(archivo_txt[string])):\n",
    "\n",
    "                archivo_txt[string][string2] = archivo_txt[string][string2].strip()\n",
    "                \n",
    "                archivo_txt[string][string2] = archivo_txt[string][string2].replace(\"null\",\"NULL\")\n",
    "\n",
    "                archivo_txt[string][string2] = archivo_txt[string][string2].replace(\"<\",\"Under\")\n",
    "\n",
    "                archivo_txt[string][string2] = archivo_txt[string][string2].strip(\"\\n\")\n",
    "\n",
    "    return archivo_txt"
   ]
  }
 ],
 "metadata": {
  "kernelspec": {
   "display_name": "Python 3.9.7 ('base')",
   "language": "python",
   "name": "python3"
  },
  "language_info": {
   "name": "python",
   "version": "3.9.7"
  },
  "orig_nbformat": 4,
  "vscode": {
   "interpreter": {
    "hash": "27c7e03acb1b122aa51a4d19f361f8e7d3205f0602534c325e31713df737767e"
   }
  }
 },
 "nbformat": 4,
 "nbformat_minor": 2
}
