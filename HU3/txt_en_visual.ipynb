{
 "cells": [
  {
   "cell_type": "code",
   "execution_count": 18,
   "metadata": {},
   "outputs": [],
   "source": [
    "with open('data_txt.txt','r') as file:\n",
    "    file_source = file.readlines() # Es una lista que cada línea del fichero txt como un string de todos los datos."
   ]
  },
  {
   "cell_type": "code",
   "execution_count": 19,
   "metadata": {},
   "outputs": [
    {
     "name": "stdout",
     "output_type": "stream",
     "text": [
      "<class 'list'>\n",
      "<class 'str'>\n"
     ]
    }
   ],
   "source": [
    "# Fichero compuesto por una lista de strings, separando cada elemento de las columnas por un ;.\n",
    "print(type(file_source))\n",
    "\n",
    "# Cada elemento de la lista es un string.\n",
    "print(type(file_source[1]))"
   ]
  },
  {
   "cell_type": "code",
   "execution_count": 20,
   "metadata": {},
   "outputs": [
    {
     "data": {
      "text/plain": [
       "'1;Indonesia;Master’s degree;Program/Project Manager;20+ years;null, SQL, C, C++, Java;Python;null,   Notepad++  ,  Jupyter Notebook;A cloud computing platform (AWS, Azure, GCP, hosted notebooks, etc);null, None;Never; Matplotlib ;Under 1 year;  Scikit-learn ;Linear or Logistic Regression, Decision Trees or Random Forests;Manufacturing/Fabrication;1000-9,999 employees;1-2;We are exploring ML methods (and may one day put a model into production);null, Build and/or run the data infrastructure that my business uses for storing, analyzing, and operationalizing data;60,000-69,999;$0 ($USD);;;;;Advanced statistical software (SPSS, SAS, etc.)\\n'"
      ]
     },
     "execution_count": 20,
     "metadata": {},
     "output_type": "execute_result"
    }
   ],
   "source": [
    "file_source[1]"
   ]
  },
  {
   "cell_type": "code",
   "execution_count": 38,
   "metadata": {},
   "outputs": [],
   "source": [
    "# Procesamos un ejemplo separando los elementos de la lista por ; obteniendo una lista de strings.\n",
    "linea_1=file_source[1].split(\";\")"
   ]
  },
  {
   "cell_type": "code",
   "execution_count": 39,
   "metadata": {},
   "outputs": [],
   "source": [
    "for l in linea_1:\n",
    "    if \",\" in l:\n",
    "        l.split(\",\")\n",
    "        l.strip()\n",
    "        l.join()\n",
    "\n",
    "\n",
    "\n",
    "\n"
   ]
  },
  {
   "cell_type": "code",
   "execution_count": 41,
   "metadata": {},
   "outputs": [
    {
     "data": {
      "text/plain": [
       "['1',\n",
       " 'Indonesia',\n",
       " 'Master’s degree',\n",
       " 'Program/Project Manager',\n",
       " '20+ years',\n",
       " 'null, SQL, C, C++, Java',\n",
       " 'Python',\n",
       " 'null,   Notepad++  ,  Jupyter Notebook',\n",
       " 'A cloud computing platform (AWS, Azure, GCP, hosted notebooks, etc)',\n",
       " 'null, None',\n",
       " 'Never',\n",
       " ' Matplotlib ',\n",
       " 'Under 1 year',\n",
       " '  Scikit-learn ',\n",
       " 'Linear or Logistic Regression, Decision Trees or Random Forests',\n",
       " 'Manufacturing/Fabrication',\n",
       " '1000-9,999 employees',\n",
       " '1-2',\n",
       " 'We are exploring ML methods (and may one day put a model into production)',\n",
       " 'null, Build and/or run the data infrastructure that my business uses for storing, analyzing, and operationalizing data',\n",
       " '60,000-69,999',\n",
       " '$0 ($USD)',\n",
       " '',\n",
       " '',\n",
       " '',\n",
       " '',\n",
       " 'Advanced statistical software (SPSS, SAS, etc.)\\n']"
      ]
     },
     "execution_count": 41,
     "metadata": {},
     "output_type": "execute_result"
    }
   ],
   "source": [
    "linea_1"
   ]
  },
  {
   "cell_type": "code",
   "execution_count": 53,
   "metadata": {},
   "outputs": [],
   "source": [
    "listaejemplo= [\"null,   Notepad++  ,  Jupyter Notebook\",  'Under 1 year','  Scikit-learn ']\n",
    " \n",
    "linea_vacia=[] \n",
    "for l in listaejemplo:\n",
    "     if \",\" in l:\n",
    "        listaejemplodividida=l.split(\",\")\n",
    "        for i in listaejemplodividida:\n",
    "             i.strip()\n",
    "             linea_vacia.append(i)\n",
    "\n",
    "     else:\n",
    "        l.strip()\n",
    "        linea_vacia.append(l)\n"
   ]
  },
  {
   "cell_type": "code",
   "execution_count": 55,
   "metadata": {},
   "outputs": [
    {
     "name": "stdout",
     "output_type": "stream",
     "text": [
      "['null', '   Notepad++  ', '  Jupyter Notebook', 'Under 1 year', '  Scikit-learn ']\n"
     ]
    }
   ],
   "source": [
    "print(linea_vacia)"
   ]
  },
  {
   "cell_type": "code",
   "execution_count": null,
   "metadata": {},
   "outputs": [],
   "source": []
  }
 ],
 "metadata": {
  "kernelspec": {
   "display_name": "Python 3.9.7 ('base')",
   "language": "python",
   "name": "python3"
  },
  "language_info": {
   "codemirror_mode": {
    "name": "ipython",
    "version": 3
   },
   "file_extension": ".py",
   "mimetype": "text/x-python",
   "name": "python",
   "nbconvert_exporter": "python",
   "pygments_lexer": "ipython3",
   "version": "3.9.7"
  },
  "orig_nbformat": 4,
  "vscode": {
   "interpreter": {
    "hash": "7ad202eda4b463b15866ae6aadf94c3d2752d74520fedda13d68ef6e8aba5314"
   }
  }
 },
 "nbformat": 4,
 "nbformat_minor": 2
}
