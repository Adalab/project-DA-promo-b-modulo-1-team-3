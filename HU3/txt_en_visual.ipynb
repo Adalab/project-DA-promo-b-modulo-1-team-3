{
 "cells": [
  {
   "cell_type": "code",
   "execution_count": 26,
   "metadata": {},
   "outputs": [],
   "source": [
    "with open('data_txt.txt','r') as file:\n",
    "    file_source = file.readlines() # Es una lista que cada línea del fichero txt como un string de todos los datos."
   ]
  },
  {
   "cell_type": "code",
   "execution_count": 27,
   "metadata": {},
   "outputs": [
    {
     "name": "stdout",
     "output_type": "stream",
     "text": [
      "<class 'list'>\n",
      "<class 'str'>\n"
     ]
    }
   ],
   "source": [
    "# Fichero compuesto por una lista de strings, separando cada elemento de las columnas por un ;.\n",
    "print(type(file_source))\n",
    "\n",
    "# Cada elemento de la lista es un string.\n",
    "print(type(file_source[1]))"
   ]
  },
  {
   "cell_type": "code",
   "execution_count": 28,
   "metadata": {},
   "outputs": [
    {
     "data": {
      "text/plain": [
       "'1;Indonesia;Master’s degree;Program/Project Manager;20+ years;null, SQL, C, C++, Java;Python;null,   Notepad++  ,  Jupyter Notebook;A cloud computing platform (AWS, Azure, GCP, hosted notebooks, etc);null, None;Never; Matplotlib ;Under 1 year;  Scikit-learn ;Linear or Logistic Regression, Decision Trees or Random Forests;Manufacturing/Fabrication;1000-9,999 employees;1-2;We are exploring ML methods (and may one day put a model into production);null, Build and/or run the data infrastructure that my business uses for storing, analyzing, and operationalizing data;60,000-69,999;$0 ($USD);;;;;Advanced statistical software (SPSS, SAS, etc.)\\n'"
      ]
     },
     "execution_count": 28,
     "metadata": {},
     "output_type": "execute_result"
    }
   ],
   "source": [
    "file_source[1]"
   ]
  },
  {
   "cell_type": "code",
   "execution_count": 41,
   "metadata": {},
   "outputs": [],
   "source": [
    "for string in range(0, len(file_source)):\n",
    "    file_source[string]=file_source[string].split(\";\")\n",
    "    \n",
    "    "
   ]
  },
  {
   "cell_type": "code",
   "execution_count": 43,
   "metadata": {},
   "outputs": [
    {
     "data": {
      "text/plain": [
       "['1',\n",
       " 'Indonesia',\n",
       " 'Master’s degree',\n",
       " 'Program/Project Manager',\n",
       " '20+ years',\n",
       " 'null, SQL, C, C++, Java',\n",
       " 'Python',\n",
       " 'null,   Notepad++  ,  Jupyter Notebook',\n",
       " 'A cloud computing platform (AWS, Azure, GCP, hosted notebooks, etc)',\n",
       " 'null, None',\n",
       " 'Never',\n",
       " ' Matplotlib ',\n",
       " 'Under 1 year',\n",
       " '  Scikit-learn ',\n",
       " 'Linear or Logistic Regression, Decision Trees or Random Forests',\n",
       " 'Manufacturing/Fabrication',\n",
       " '1000-9,999 employees',\n",
       " '1-2',\n",
       " 'We are exploring ML methods (and may one day put a model into production)',\n",
       " 'null, Build and/or run the data infrastructure that my business uses for storing, analyzing, and operationalizing data',\n",
       " '60,000-69,999',\n",
       " '$0 ($USD)',\n",
       " '',\n",
       " '',\n",
       " '',\n",
       " '',\n",
       " 'Advanced statistical software (SPSS, SAS, etc.)\\n']"
      ]
     },
     "execution_count": 43,
     "metadata": {},
     "output_type": "execute_result"
    }
   ],
   "source": [
    "file_source[1]"
   ]
  },
  {
   "cell_type": "code",
   "execution_count": null,
   "metadata": {},
   "outputs": [],
   "source": [
    "# Así creo que quedaría el for loop para eliminar los espacios (26/07). Si lo hacemos como hizo Alejandro, en el segundo loop se podrian agregar \n",
    "# los otros cambios con replace.\n",
    "\n",
    "for string in range(0, len(file_source)):\n",
    "    \n",
    "    file_source[string]=file_source[string].split(\";\")\n",
    "    \n",
    "    for string2 in range(0,len(file_source[string])):\n",
    "\n",
    "            file_source[string][string2] = file_source[string][string2].strip()\n",
    "            \n",
    "\n"
   ]
  },
  {
   "cell_type": "code",
   "execution_count": 38,
   "metadata": {},
   "outputs": [],
   "source": [
    "for linea in file_source:\n",
    "        linea_split=linea.split(\";\")\n",
    "        for n in linea_split:\n",
    "                linea_strip=n.strip()\n",
    "                "
   ]
  },
  {
   "cell_type": "code",
   "execution_count": 39,
   "metadata": {},
   "outputs": [
    {
     "data": {
      "text/plain": [
       "'Advanced statistical software (SPSS, SAS, etc.)'"
      ]
     },
     "execution_count": 39,
     "metadata": {},
     "output_type": "execute_result"
    }
   ],
   "source": [
    "linea_strip"
   ]
  },
  {
   "cell_type": "code",
   "execution_count": null,
   "metadata": {},
   "outputs": [],
   "source": []
  }
 ],
 "metadata": {
  "kernelspec": {
   "display_name": "Python 3.9.7 ('base')",
   "language": "python",
   "name": "python3"
  },
  "language_info": {
   "codemirror_mode": {
    "name": "ipython",
    "version": 3
   },
   "file_extension": ".py",
   "mimetype": "text/x-python",
   "name": "python",
   "nbconvert_exporter": "python",
   "pygments_lexer": "ipython3",
   "version": "3.9.7"
  },
  "orig_nbformat": 4,
  "vscode": {
   "interpreter": {
    "hash": "27c7e03acb1b122aa51a4d19f361f8e7d3205f0602534c325e31713df737767e"
   }
  }
 },
 "nbformat": 4,
 "nbformat_minor": 2
}
