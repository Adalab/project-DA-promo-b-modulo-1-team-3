{
 "cells": [
  {
   "cell_type": "code",
   "execution_count": 6,
   "metadata": {},
   "outputs": [],
   "source": [
    "import re\n",
    "import os\n",
    "import xml.etree.ElementTree as ET\n",
    "import os\n",
    "\n",
    "tree = ET.parse('data/data_xml.xml')\n",
    "\n",
    "root = tree.getroot()\n",
    "\n",
    "xml_list = []\n",
    "for child in root:\n",
    "    xml_dict = {}\n",
    "    for subchild in child:\n",
    "        xml_dict[subchild.tag] = subchild.text\n",
    "    xml_list.append(xml_dict) # Es una lista que contiene diccionarios"
   ]
  },
  {
   "cell_type": "code",
   "execution_count": null,
   "metadata": {},
   "outputs": [],
   "source": [
    "xml_list"
   ]
  },
  {
   "cell_type": "code",
   "execution_count": null,
   "metadata": {},
   "outputs": [],
   "source": [
    "print(xml_list)"
   ]
  },
  {
   "cell_type": "code",
   "execution_count": null,
   "metadata": {},
   "outputs": [],
   "source": [
    "# Explicación tipos de datos xml_list:\n",
    "# Vemos que es una lista de diccionarios, representando los registros de una tabla con varias columnas\n",
    "# El diccionario se complone de: Keys (nombre de la columna) y Values (nombre del registro)\n",
    "# En algunos diccionarios, vemos que estan con saltos de línea entre los ítems."
   ]
  },
  {
   "cell_type": "code",
   "execution_count": null,
   "metadata": {},
   "outputs": [],
   "source": [
    "# Cambiar la key género de int a str"
   ]
  },
  {
   "cell_type": "code",
   "execution_count": null,
   "metadata": {},
   "outputs": [],
   "source": [
    "# Cambiamos los nombres de las keys index_0 e index por index_xml e index_sql respectivamente \n",
    "for i in range(len(xml_list)):\n",
    "    xml_list[i]['index_xml'] = xml_list[i].pop('level_0')\n",
    "    xml_list[i]['index_sql'] = xml_list[i].pop('index')"
   ]
  },
  {
   "cell_type": "code",
   "execution_count": null,
   "metadata": {},
   "outputs": [],
   "source": [
    "xml_list"
   ]
  },
  {
   "cell_type": "code",
   "execution_count": null,
   "metadata": {},
   "outputs": [],
   "source": [
    "for i in xml_list:\n",
    "    for k, v in i.items(): #por cada key y value de cada diccionario:\n",
    "        if k == \"gender\":       # si la key es = a gender (para que nos tome solo esa columna)\n",
    "             if v == \"0\":                     # si el valor es \"0\":\n",
    "                 i[k] = \"Man\"            # que vaya a la key de ese diccionario y cambie el value a \"Man\"\n",
    "             elif v == \"1\":                      # lo mismo para el resto\n",
    "                    i[k] = \"Woman\"\n",
    "             elif v == \"2\":\n",
    "                    i[k] = \"Nonbinary\"\n",
    "             elif v == \"3\":\n",
    "                    i[k] = \"Prefer not to say\"\n",
    "             elif v == \"4\":\n",
    "                    i[k] = \"Prefer to self-describe\""
   ]
  },
  {
   "cell_type": "code",
   "execution_count": null,
   "metadata": {},
   "outputs": [],
   "source": [
    "xml_list"
   ]
  }
 ],
 "metadata": {
  "kernelspec": {
   "display_name": "Python 3.9.7 ('base')",
   "language": "python",
   "name": "python3"
  },
  "language_info": {
   "codemirror_mode": {
    "name": "ipython",
    "version": 3
   },
   "file_extension": ".py",
   "mimetype": "text/x-python",
   "name": "python",
   "nbconvert_exporter": "python",
   "pygments_lexer": "ipython3",
   "version": "3.9.7"
  },
  "orig_nbformat": 4,
  "vscode": {
   "interpreter": {
    "hash": "7ad202eda4b463b15866ae6aadf94c3d2752d74520fedda13d68ef6e8aba5314"
   }
  }
 },
 "nbformat": 4,
 "nbformat_minor": 2
}
